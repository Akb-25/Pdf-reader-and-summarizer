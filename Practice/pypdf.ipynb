{
 "cells": [
  {
   "cell_type": "code",
   "execution_count": 268,
   "metadata": {
    "scrolled": true
   },
   "outputs": [],
   "source": [
    "# !pip3 install pypdf2"
   ]
  },
  {
   "cell_type": "code",
   "execution_count": 269,
   "metadata": {},
   "outputs": [],
   "source": [
    "from PyPDF2 import PdfReader\n",
    "import pandas as pd\n",
    "import re\n",
    "reader=PdfReader(\"Freakonomics 1.pdf\",\"rb\")"
   ]
  },
  {
   "cell_type": "code",
   "execution_count": 270,
   "metadata": {},
   "outputs": [],
   "source": [
    "length=len(reader.pages)\n",
    "pages=[]\n",
    "for i in range(length):\n",
    "    page=PdfReader._get_page(reader,page_number=i)\n",
    "    pages.append(page)\n",
    "    texts=[]\n",
    "for i in range(length):\n",
    "    text=pages[i].extract_text()\n",
    "    texts.append(text)"
   ]
  },
  {
   "cell_type": "code",
   "execution_count": 271,
   "metadata": {},
   "outputs": [],
   "source": [
    "import pandas as pd"
   ]
  },
  {
   "cell_type": "code",
   "execution_count": 272,
   "metadata": {},
   "outputs": [],
   "source": [
    "contents=pd.DataFrame(columns=[\"pageNumber\",\"content\"])"
   ]
  },
  {
   "cell_type": "code",
   "execution_count": 273,
   "metadata": {},
   "outputs": [],
   "source": [
    "data=[]\n",
    "for num,val in enumerate(texts):\n",
    "    data.append({\"pageNumber\":num,\"content\":val})\n",
    "contents=pd.concat([contents,pd.DataFrame(data)],ignore_index=True)"
   ]
  },
  {
   "cell_type": "code",
   "execution_count": 274,
   "metadata": {},
   "outputs": [
    {
     "data": {
      "text/html": [
       "<div>\n",
       "<style scoped>\n",
       "    .dataframe tbody tr th:only-of-type {\n",
       "        vertical-align: middle;\n",
       "    }\n",
       "\n",
       "    .dataframe tbody tr th {\n",
       "        vertical-align: top;\n",
       "    }\n",
       "\n",
       "    .dataframe thead th {\n",
       "        text-align: right;\n",
       "    }\n",
       "</style>\n",
       "<table border=\"1\" class=\"dataframe\">\n",
       "  <thead>\n",
       "    <tr style=\"text-align: right;\">\n",
       "      <th></th>\n",
       "      <th>pageNumber</th>\n",
       "      <th>content</th>\n",
       "    </tr>\n",
       "  </thead>\n",
       "  <tbody>\n",
       "    <tr>\n",
       "      <th>0</th>\n",
       "      <td>0</td>\n",
       "      <td></td>\n",
       "    </tr>\n",
       "    <tr>\n",
       "      <th>1</th>\n",
       "      <td>1</td>\n",
       "      <td></td>\n",
       "    </tr>\n",
       "    <tr>\n",
       "      <th>2</th>\n",
       "      <td>2</td>\n",
       "      <td>FREAKONOMICS A Rogue Economist \\nExplores the ...</td>\n",
       "    </tr>\n",
       "    <tr>\n",
       "      <th>3</th>\n",
       "      <td>3</td>\n",
       "      <td></td>\n",
       "    </tr>\n",
       "    <tr>\n",
       "      <th>4</th>\n",
       "      <td>4</td>\n",
       "      <td>CONTENTS \\nAN EXPLANATORY NOTE vii \\nIn which ...</td>\n",
       "    </tr>\n",
       "  </tbody>\n",
       "</table>\n",
       "</div>"
      ],
      "text/plain": [
       "  pageNumber                                            content\n",
       "0          0                                                   \n",
       "1          1                                                   \n",
       "2          2  FREAKONOMICS A Rogue Economist \\nExplores the ...\n",
       "3          3                                                   \n",
       "4          4  CONTENTS \\nAN EXPLANATORY NOTE vii \\nIn which ..."
      ]
     },
     "execution_count": 274,
     "metadata": {},
     "output_type": "execute_result"
    }
   ],
   "source": [
    "contents.head()"
   ]
  },
  {
   "cell_type": "code",
   "execution_count": 275,
   "metadata": {},
   "outputs": [
    {
     "data": {
      "text/html": [
       "<div>\n",
       "<style scoped>\n",
       "    .dataframe tbody tr th:only-of-type {\n",
       "        vertical-align: middle;\n",
       "    }\n",
       "\n",
       "    .dataframe tbody tr th {\n",
       "        vertical-align: top;\n",
       "    }\n",
       "\n",
       "    .dataframe thead th {\n",
       "        text-align: right;\n",
       "    }\n",
       "</style>\n",
       "<table border=\"1\" class=\"dataframe\">\n",
       "  <thead>\n",
       "    <tr style=\"text-align: right;\">\n",
       "      <th></th>\n",
       "      <th>pageNumber</th>\n",
       "      <th>content</th>\n",
       "    </tr>\n",
       "  </thead>\n",
       "  <tbody>\n",
       "    <tr>\n",
       "      <th>0</th>\n",
       "      <td>0</td>\n",
       "      <td></td>\n",
       "    </tr>\n",
       "    <tr>\n",
       "      <th>1</th>\n",
       "      <td>1</td>\n",
       "      <td></td>\n",
       "    </tr>\n",
       "    <tr>\n",
       "      <th>2</th>\n",
       "      <td>2</td>\n",
       "      <td>FREAKONOMICS A Rogue Economist \\nExplores the ...</td>\n",
       "    </tr>\n",
       "    <tr>\n",
       "      <th>3</th>\n",
       "      <td>3</td>\n",
       "      <td></td>\n",
       "    </tr>\n",
       "    <tr>\n",
       "      <th>4</th>\n",
       "      <td>4</td>\n",
       "      <td>CONTENTS \\nAN EXPLANATORY NOTE vii \\nIn which ...</td>\n",
       "    </tr>\n",
       "    <tr>\n",
       "      <th>...</th>\n",
       "      <td>...</td>\n",
       "      <td>...</td>\n",
       "    </tr>\n",
       "    <tr>\n",
       "      <th>335</th>\n",
       "      <td>335</td>\n",
       "      <td>Index \\nSwitzerland, 224–25 \\nSzilagyi, John, ...</td>\n",
       "    </tr>\n",
       "    <tr>\n",
       "      <th>336</th>\n",
       "      <td>336</td>\n",
       "      <td>About the Authors  \\nSTEVEN D. L EVITT teaches...</td>\n",
       "    </tr>\n",
       "    <tr>\n",
       "      <th>337</th>\n",
       "      <td>337</td>\n",
       "      <td>Credits \\nJacket design by Chika Azuma  \\nJack...</td>\n",
       "    </tr>\n",
       "    <tr>\n",
       "      <th>338</th>\n",
       "      <td>338</td>\n",
       "      <td>Copyright \\nFREAKONOMICS (REVISED AND EXPANDED...</td>\n",
       "    </tr>\n",
       "    <tr>\n",
       "      <th>339</th>\n",
       "      <td>339</td>\n",
       "      <td>Australia \\nPymble, NSW 2073, Australia Canada...</td>\n",
       "    </tr>\n",
       "  </tbody>\n",
       "</table>\n",
       "<p>340 rows × 2 columns</p>\n",
       "</div>"
      ],
      "text/plain": [
       "    pageNumber                                            content\n",
       "0            0                                                   \n",
       "1            1                                                   \n",
       "2            2  FREAKONOMICS A Rogue Economist \\nExplores the ...\n",
       "3            3                                                   \n",
       "4            4  CONTENTS \\nAN EXPLANATORY NOTE vii \\nIn which ...\n",
       "..         ...                                                ...\n",
       "335        335  Index \\nSwitzerland, 224–25 \\nSzilagyi, John, ...\n",
       "336        336  About the Authors  \\nSTEVEN D. L EVITT teaches...\n",
       "337        337  Credits \\nJacket design by Chika Azuma  \\nJack...\n",
       "338        338  Copyright \\nFREAKONOMICS (REVISED AND EXPANDED...\n",
       "339        339  Australia \\nPymble, NSW 2073, Australia Canada...\n",
       "\n",
       "[340 rows x 2 columns]"
      ]
     },
     "execution_count": 275,
     "metadata": {},
     "output_type": "execute_result"
    }
   ],
   "source": [
    "contents"
   ]
  },
  {
   "cell_type": "code",
   "execution_count": 276,
   "metadata": {},
   "outputs": [
    {
     "data": {
      "text/html": [
       "<div>\n",
       "<style scoped>\n",
       "    .dataframe tbody tr th:only-of-type {\n",
       "        vertical-align: middle;\n",
       "    }\n",
       "\n",
       "    .dataframe tbody tr th {\n",
       "        vertical-align: top;\n",
       "    }\n",
       "\n",
       "    .dataframe thead th {\n",
       "        text-align: right;\n",
       "    }\n",
       "</style>\n",
       "<table border=\"1\" class=\"dataframe\">\n",
       "  <thead>\n",
       "    <tr style=\"text-align: right;\">\n",
       "      <th></th>\n",
       "      <th>pageNumber</th>\n",
       "      <th>content</th>\n",
       "    </tr>\n",
       "  </thead>\n",
       "  <tbody>\n",
       "    <tr>\n",
       "      <th>count</th>\n",
       "      <td>340</td>\n",
       "      <td>340</td>\n",
       "    </tr>\n",
       "    <tr>\n",
       "      <th>unique</th>\n",
       "      <td>340</td>\n",
       "      <td>330</td>\n",
       "    </tr>\n",
       "    <tr>\n",
       "      <th>top</th>\n",
       "      <td>0</td>\n",
       "      <td></td>\n",
       "    </tr>\n",
       "    <tr>\n",
       "      <th>freq</th>\n",
       "      <td>1</td>\n",
       "      <td>11</td>\n",
       "    </tr>\n",
       "  </tbody>\n",
       "</table>\n",
       "</div>"
      ],
      "text/plain": [
       "        pageNumber content\n",
       "count          340     340\n",
       "unique         340     330\n",
       "top              0        \n",
       "freq             1      11"
      ]
     },
     "execution_count": 276,
     "metadata": {},
     "output_type": "execute_result"
    }
   ],
   "source": [
    "contents.describe()"
   ]
  },
  {
   "cell_type": "code",
   "execution_count": 277,
   "metadata": {},
   "outputs": [
    {
     "data": {
      "text/html": [
       "<div>\n",
       "<style scoped>\n",
       "    .dataframe tbody tr th:only-of-type {\n",
       "        vertical-align: middle;\n",
       "    }\n",
       "\n",
       "    .dataframe tbody tr th {\n",
       "        vertical-align: top;\n",
       "    }\n",
       "\n",
       "    .dataframe thead th {\n",
       "        text-align: right;\n",
       "    }\n",
       "</style>\n",
       "<table border=\"1\" class=\"dataframe\">\n",
       "  <thead>\n",
       "    <tr style=\"text-align: right;\">\n",
       "      <th></th>\n",
       "      <th>pageNumber</th>\n",
       "      <th>content</th>\n",
       "    </tr>\n",
       "  </thead>\n",
       "  <tbody>\n",
       "    <tr>\n",
       "      <th>0</th>\n",
       "      <td>0</td>\n",
       "      <td></td>\n",
       "    </tr>\n",
       "    <tr>\n",
       "      <th>1</th>\n",
       "      <td>1</td>\n",
       "      <td></td>\n",
       "    </tr>\n",
       "    <tr>\n",
       "      <th>2</th>\n",
       "      <td>2</td>\n",
       "      <td>FREAKONOMICS A Rogue Economist \\nExplores the ...</td>\n",
       "    </tr>\n",
       "    <tr>\n",
       "      <th>3</th>\n",
       "      <td>3</td>\n",
       "      <td></td>\n",
       "    </tr>\n",
       "    <tr>\n",
       "      <th>4</th>\n",
       "      <td>4</td>\n",
       "      <td>CONTENTS \\nAN EXPLANATORY NOTE vii \\nIn which ...</td>\n",
       "    </tr>\n",
       "  </tbody>\n",
       "</table>\n",
       "</div>"
      ],
      "text/plain": [
       "  pageNumber                                            content\n",
       "0          0                                                   \n",
       "1          1                                                   \n",
       "2          2  FREAKONOMICS A Rogue Economist \\nExplores the ...\n",
       "3          3                                                   \n",
       "4          4  CONTENTS \\nAN EXPLANATORY NOTE vii \\nIn which ..."
      ]
     },
     "execution_count": 277,
     "metadata": {},
     "output_type": "execute_result"
    }
   ],
   "source": [
    "contents.head()"
   ]
  },
  {
   "cell_type": "code",
   "execution_count": 278,
   "metadata": {},
   "outputs": [],
   "source": [
    "import spacy\n",
    "nlp=spacy.load(\"en_core_web_sm\")"
   ]
  },
  {
   "cell_type": "code",
   "execution_count": 279,
   "metadata": {},
   "outputs": [],
   "source": [
    "def formattedText(text):\n",
    "    doc=nlp(text)\n",
    "    page=[]\n",
    "    for token in doc:\n",
    "        token_index=token.i\n",
    "        if token.text ==\"-\":\n",
    "            if token.i>0 and token.i<len(doc)-1:\n",
    "                pageVal=doc[token.i-1].text+doc[token.i+1].text\n",
    "            page.append(str(pageVal))\n",
    "        elif token.text==\"\\n\":\n",
    "            pageVal=token.text.replace(\"\\n\",\"\")\n",
    "        elif not token.is_punct:\n",
    "            page.append(token.text)\n",
    "    return page"
   ]
  },
  {
   "cell_type": "code",
   "execution_count": 280,
   "metadata": {},
   "outputs": [],
   "source": [
    "def join_letters(text):\n",
    "    doc=nlp(text)\n",
    "    page=[]\n",
    "    for token in doc[:-1]:\n",
    "        if len(doc[token.i+1])==1 and doc[token.i+1].text is not [\"a\",\"A\",\"i\",\"I\"]: \n",
    "            val=doc[token.i].text+doc[token.i+1].text\n",
    "            page.append(str(val))\n",
    "    return page"
   ]
  },
  {
   "cell_type": "code",
   "execution_count": 281,
   "metadata": {},
   "outputs": [],
   "source": [
    "# contents.content=contents[\"content\"].apply(join_letters)\n",
    "contents.content=contents[\"content\"].apply(formattedText)"
   ]
  },
  {
   "cell_type": "code",
   "execution_count": 282,
   "metadata": {},
   "outputs": [
    {
     "data": {
      "text/html": [
       "<div>\n",
       "<style scoped>\n",
       "    .dataframe tbody tr th:only-of-type {\n",
       "        vertical-align: middle;\n",
       "    }\n",
       "\n",
       "    .dataframe tbody tr th {\n",
       "        vertical-align: top;\n",
       "    }\n",
       "\n",
       "    .dataframe thead th {\n",
       "        text-align: right;\n",
       "    }\n",
       "</style>\n",
       "<table border=\"1\" class=\"dataframe\">\n",
       "  <thead>\n",
       "    <tr style=\"text-align: right;\">\n",
       "      <th></th>\n",
       "      <th>pageNumber</th>\n",
       "      <th>content</th>\n",
       "    </tr>\n",
       "  </thead>\n",
       "  <tbody>\n",
       "    <tr>\n",
       "      <th>0</th>\n",
       "      <td>0</td>\n",
       "      <td>[]</td>\n",
       "    </tr>\n",
       "    <tr>\n",
       "      <th>1</th>\n",
       "      <td>1</td>\n",
       "      <td>[]</td>\n",
       "    </tr>\n",
       "    <tr>\n",
       "      <th>2</th>\n",
       "      <td>2</td>\n",
       "      <td>[FREAKONOMICS, A, Rogue, Economist, Explores, ...</td>\n",
       "    </tr>\n",
       "    <tr>\n",
       "      <th>3</th>\n",
       "      <td>3</td>\n",
       "      <td>[]</td>\n",
       "    </tr>\n",
       "    <tr>\n",
       "      <th>4</th>\n",
       "      <td>4</td>\n",
       "      <td>[CONTENTS, AN, EXPLANATORY, NOTE, vii, In, whi...</td>\n",
       "    </tr>\n",
       "  </tbody>\n",
       "</table>\n",
       "</div>"
      ],
      "text/plain": [
       "  pageNumber                                            content\n",
       "0          0                                                 []\n",
       "1          1                                                 []\n",
       "2          2  [FREAKONOMICS, A, Rogue, Economist, Explores, ...\n",
       "3          3                                                 []\n",
       "4          4  [CONTENTS, AN, EXPLANATORY, NOTE, vii, In, whi..."
      ]
     },
     "execution_count": 282,
     "metadata": {},
     "output_type": "execute_result"
    }
   ],
   "source": [
    "contents.head()"
   ]
  },
  {
   "cell_type": "code",
   "execution_count": 283,
   "metadata": {},
   "outputs": [],
   "source": [
    "# def remove_newline(doc):\n",
    "#     return[token.text.replace(\"\\n\",\"\") for token in doc]\n",
    "# contents.content=contents[\"content\"].apply(remove_newline)"
   ]
  },
  {
   "cell_type": "code",
   "execution_count": 292,
   "metadata": {},
   "outputs": [
    {
     "data": {
      "text/html": [
       "<div>\n",
       "<style scoped>\n",
       "    .dataframe tbody tr th:only-of-type {\n",
       "        vertical-align: middle;\n",
       "    }\n",
       "\n",
       "    .dataframe tbody tr th {\n",
       "        vertical-align: top;\n",
       "    }\n",
       "\n",
       "    .dataframe thead th {\n",
       "        text-align: right;\n",
       "    }\n",
       "</style>\n",
       "<table border=\"1\" class=\"dataframe\">\n",
       "  <thead>\n",
       "    <tr style=\"text-align: right;\">\n",
       "      <th></th>\n",
       "      <th>pageNumber</th>\n",
       "      <th>content</th>\n",
       "    </tr>\n",
       "  </thead>\n",
       "  <tbody>\n",
       "    <tr>\n",
       "      <th>0</th>\n",
       "      <td>0</td>\n",
       "      <td>[]</td>\n",
       "    </tr>\n",
       "    <tr>\n",
       "      <th>1</th>\n",
       "      <td>1</td>\n",
       "      <td>[]</td>\n",
       "    </tr>\n",
       "    <tr>\n",
       "      <th>2</th>\n",
       "      <td>2</td>\n",
       "      <td>[FREAKONOMICS, A, Rogue, Economist, Explores, ...</td>\n",
       "    </tr>\n",
       "    <tr>\n",
       "      <th>3</th>\n",
       "      <td>3</td>\n",
       "      <td>[]</td>\n",
       "    </tr>\n",
       "    <tr>\n",
       "      <th>4</th>\n",
       "      <td>4</td>\n",
       "      <td>[CONTENTS, AN, EXPLANATORY, NOTE, vii, In, whi...</td>\n",
       "    </tr>\n",
       "    <tr>\n",
       "      <th>5</th>\n",
       "      <td>5</td>\n",
       "      <td>[Co, n, t, e, n, t, s, Who, cheats, Just, abou...</td>\n",
       "    </tr>\n",
       "  </tbody>\n",
       "</table>\n",
       "</div>"
      ],
      "text/plain": [
       "  pageNumber                                            content\n",
       "0          0                                                 []\n",
       "1          1                                                 []\n",
       "2          2  [FREAKONOMICS, A, Rogue, Economist, Explores, ...\n",
       "3          3                                                 []\n",
       "4          4  [CONTENTS, AN, EXPLANATORY, NOTE, vii, In, whi...\n",
       "5          5  [Co, n, t, e, n, t, s, Who, cheats, Just, abou..."
      ]
     },
     "execution_count": 292,
     "metadata": {},
     "output_type": "execute_result"
    }
   ],
   "source": [
    "contents.head(6)"
   ]
  },
  {
   "cell_type": "code",
   "execution_count": 285,
   "metadata": {},
   "outputs": [
    {
     "data": {
      "text/html": [
       "<div>\n",
       "<style scoped>\n",
       "    .dataframe tbody tr th:only-of-type {\n",
       "        vertical-align: middle;\n",
       "    }\n",
       "\n",
       "    .dataframe tbody tr th {\n",
       "        vertical-align: top;\n",
       "    }\n",
       "\n",
       "    .dataframe thead th {\n",
       "        text-align: right;\n",
       "    }\n",
       "</style>\n",
       "<table border=\"1\" class=\"dataframe\">\n",
       "  <thead>\n",
       "    <tr style=\"text-align: right;\">\n",
       "      <th></th>\n",
       "      <th>pageNumber</th>\n",
       "      <th>content</th>\n",
       "    </tr>\n",
       "  </thead>\n",
       "  <tbody>\n",
       "    <tr>\n",
       "      <th>98</th>\n",
       "      <td>98</td>\n",
       "      <td>[Drug, Dealers, Living, with, Their, Moms, not...</td>\n",
       "    </tr>\n",
       "    <tr>\n",
       "      <th>278</th>\n",
       "      <td>278</td>\n",
       "      <td>[Fr, om, the, Freakonomics, B, log, The, simpl...</td>\n",
       "    </tr>\n",
       "  </tbody>\n",
       "</table>\n",
       "</div>"
      ],
      "text/plain": [
       "    pageNumber                                            content\n",
       "98          98  [Drug, Dealers, Living, with, Their, Moms, not...\n",
       "278        278  [Fr, om, the, Freakonomics, B, log, The, simpl..."
      ]
     },
     "execution_count": 285,
     "metadata": {},
     "output_type": "execute_result"
    }
   ],
   "source": [
    "contents.sample(2)"
   ]
  },
  {
   "cell_type": "code",
   "execution_count": 299,
   "metadata": {},
   "outputs": [
    {
     "name": "stdout",
     "output_type": "stream",
     "text": [
      "['Introduction', 'The', 'Hidden', 'Side', 'of', 'Everything', 'are', 'you', '’ll', 'give', 'the', 'money', 'in', 'one', 'of', 'two', 'situations', 'a', 'close', 'race', 'in', 'which', 'you', 'think', 'the', 'money', 'will', 'inﬂuence', 'the', 'outcome', 'or', 'a', 'cam', 'cam\\n', 'paign', 'in', 'which', 'one', 'candidate', 'is', 'a', 'sure', 'winner', 'and', 'you', 'would', 'like', 'to', 'bask', 'in', 'reﬂected', 'glory', 'or', 'receive', 'some', 'future', 'in', 'inkind', 'kind', 'consideration', 'The', 'one', 'candidate', 'you', 'wo', 'n’t', 'contribute', 'to', 'is', 'a', 'sure', 'loser', 'Just', 'ask', 'any', 'presidential', 'hopeful', 'who', 'bombs', 'in', 'Iowa', 'and', 'New', 'Hampshire', 'So', 'front', 'frontrunners', 'runners', 'and', 'incumbents', 'raise', 'a', 'lot', 'more', 'money', 'than', 'long', 'shots', 'And', 'what', 'about', 'spending', 'that', 'money', 'Incumbents', 'and', 'front', '\\n\\n', 'runners', 'obviously', 'have', 'more', 'cash', 'but', 'they', 'only', 'spend', 'a', 'lot', 'of', 'it', 'when', 'they', 'stand', 'a', 'legitimate', 'chance', 'of', 'losing', 'otherwise', 'why', 'dip', 'into', 'a', 'war', 'chest', 'that', 'might', 'be', 'more', 'useful', 'later', 'on', 'when', 'a', 'more', 'for', '\\n\\n', 'midable', 'opponent', 'appears', 'Now', 'picture', 'two', 'candidates', 'one', 'intrinsically', 'appealing', 'and', 'the', 'other', 'not', 'so', 'The', 'appealing', 'candidate', 'raises', 'much', 'more', 'money', 'and', 'wins', 'easily', 'But', 'was', 'it', 'the', 'money', 'that', 'won', 'him', 'the', 'votes', 'or', 'was', 'it', 'his', 'appeal', 'that', 'won', 'the', 'votes', 'and', 'the', 'money', 'That', '’s', 'a', 'crucial', 'question', 'but', 'a', 'very', 'hard', 'one', 'to', 'answer', 'Voter', 'ap', 'ap\\n', 'peal', 'after', 'all', 'is', 'n’t', 'easy', 'to', 'quantify', 'How', 'can', 'it', 'be', 'measured', 'It', 'ca', 'n’t', 'really', 'except', 'in', 'one', 'special', 'case', 'The', 'key', 'is', 'to', 'measure', 'a', 'candidate', 'agains', 't', 'himself', 'That', 'is', 'Candidate', 'A', 'today', 'is', 'likely', 'to', 'be', 'similar', 'to', 'Candidate', 'A', 'two', 'or', 'four', 'years', 'hence', 'The', 'same', 'could', 'be', 'said', 'for', 'Candidate', 'B.', 'If', 'only', 'Candidate', 'A', 'ran', 'against', 'Candidate', 'B', 'in', 'two', 'consecutive', 'elections', 'but', 'in', 'each', 'case', 'spent', 'different', 'amounts', 'of', 'money', 'Then', 'with', 'the', 'candidates', 'appeal', 'more', 'or', 'less', 'constant', 'we', 'could', 'measure', 'the', 'money', '’s', 'impact', 'As', 'it', 'turns', 'out', 'the', 'same', 'two', 'candidates', 'run', 'against', 'each', 'other', 'in', 'consecutive', 'elections', 'all', 'the', 'time', 'indeed', 'in', 'nearly', 'a', 'thousand', 'U.S.', 'congressional', 'races', 'since', '1972', 'What', 'do', 'the', 'numbers', 'have', 'to', 'say', 'about', 'such', 'cases', 'Here', '’s', 'the', 'surprise', 'the', 'amount', 'of', 'money', 'spent', 'by', 'the', 'candidates', 'hardly', 'matters', 'at', 'all', 'A', 'winning', 'candidate', 'can', 'cut', 'his', 'spending', 'in', 'half', '9']\n"
     ]
    }
   ],
   "source": [
    "row=contents.loc[24][1]\n",
    "print(row)"
   ]
  },
  {
   "cell_type": "code",
   "execution_count": null,
   "metadata": {},
   "outputs": [],
   "source": []
  }
 ],
 "metadata": {
  "kernelspec": {
   "display_name": "Python 3 (ipykernel)",
   "language": "python",
   "name": "python3"
  },
  "language_info": {
   "codemirror_mode": {
    "name": "ipython",
    "version": 3
   },
   "file_extension": ".py",
   "mimetype": "text/x-python",
   "name": "python",
   "nbconvert_exporter": "python",
   "pygments_lexer": "ipython3",
   "version": "3.9.13"
  }
 },
 "nbformat": 4,
 "nbformat_minor": 2
}
