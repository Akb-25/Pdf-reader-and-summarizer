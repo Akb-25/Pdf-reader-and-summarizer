{
 "cells": [
  {
   "cell_type": "code",
   "execution_count": 14,
   "metadata": {
    "scrolled": true
   },
   "outputs": [],
   "source": [
    "# !pip3 install pypdf2"
   ]
  },
  {
   "cell_type": "code",
   "execution_count": 15,
   "metadata": {},
   "outputs": [],
   "source": [
    "from PyPDF2 import PdfReader\n",
    "import pandas as pd\n",
    "import re\n",
    "import pandas as pd"
   ]
  },
  {
   "cell_type": "code",
   "execution_count": 16,
   "metadata": {},
   "outputs": [],
   "source": [
    "reader=PdfReader(\"Freakonomics 1.pdf\",\"rb\")\n",
    "length=len(reader.pages)\n",
    "pages=[]\n",
    "for i in range(length):\n",
    "    page=PdfReader._get_page(reader,page_number=i)\n",
    "    pages.append(page)\n",
    "    texts=[]\n",
    "for i in range(length):\n",
    "    text=pages[i].extract_text(0)\n",
    "    texts.append(text)"
   ]
  },
  {
   "cell_type": "code",
   "execution_count": 17,
   "metadata": {},
   "outputs": [],
   "source": [
    "contents=pd.DataFrame(columns=[\"pageNumber\",\"content\"])\n",
    "data=[]\n",
    "for num,val in enumerate(texts):\n",
    "    data.append({\"pageNumber\":num,\"content\":val})\n",
    "contents=pd.concat([contents,pd.DataFrame(data)],ignore_index=True)"
   ]
  },
  {
   "cell_type": "code",
   "execution_count": 18,
   "metadata": {},
   "outputs": [],
   "source": [
    "import spacy\n",
    "nlp=spacy.load(\"en_core_web_sm\")\n",
    "def formattedText(text):\n",
    "    doc=nlp(text)\n",
    "    page=[]\n",
    "    for token in doc:\n",
    "        token_index=token.i\n",
    "        if token.text ==\"-\":\n",
    "            if token.i>0 and token.i<len(doc)-1:\n",
    "                pageVal=doc[token.i-1].text+doc[token.i+1].text\n",
    "            page.append(str(pageVal))\n",
    "        elif token.text==\"\\n\":\n",
    "            pageVal=token.text.replace(\"\\n\",\"\")\n",
    "        elif token.text==\"\\n\\n\":\n",
    "            pageVal=token.text.replace(\"\\n\\n\",\"\")\n",
    "        # elif not token.is_punct:\n",
    "        else:\n",
    "            page.append(token.text)\n",
    "    return \" \".join(page)"
   ]
  },
  {
   "cell_type": "code",
   "execution_count": 19,
   "metadata": {},
   "outputs": [],
   "source": [
    "# def join_letters(text):\n",
    "#     doc=nlp(text)\n",
    "#     page=[]\n",
    "#     for token in doc[:-1]:\n",
    "#         if len(doc[token.i+1])==1 and doc[token.i+1].text is not [\"a\",\"A\",\"i\",\"I\"]: \n",
    "#             val=doc[token.i].text+doc[token.i+1].text\n",
    "#             page.append(str(val))\n",
    "#     return page"
   ]
  },
  {
   "cell_type": "code",
   "execution_count": 20,
   "metadata": {},
   "outputs": [],
   "source": [
    "# contents.content=contents[\"content\"].apply(join_letters)\n",
    "contents.content=contents[\"content\"].apply(formattedText)"
   ]
  },
  {
   "cell_type": "code",
   "execution_count": 21,
   "metadata": {},
   "outputs": [],
   "source": [
    "# row=contents.iloc[5][1]\n",
    "# print(row)"
   ]
  },
  {
   "cell_type": "code",
   "execution_count": 22,
   "metadata": {},
   "outputs": [],
   "source": [
    "# !pip install transformers\n",
    "# !pip install torch==1.9.0+cpu torchvision==0.10.0+cpu torchaudio==0.9.0 -f https://download.pytorch.org/whl/torch_stable.html"
   ]
  },
  {
   "cell_type": "code",
   "execution_count": 24,
   "metadata": {},
   "outputs": [],
   "source": [
    "from transformers import pipeline\n",
    "modelName=\"sshleifer/distilbart-cnn-12-6\"\n",
    "RevisionName=\"a4f8f3e\"\n",
    "summarizer=pipeline(\"summarization\",model=modelName,revision=RevisionName)\n",
    "def add_summariser(text):\n",
    "    return summarizer(text,min_length=150,max_length=200)"
   ]
  },
  {
   "cell_type": "code",
   "execution_count": 25,
   "metadata": {},
   "outputs": [
    {
     "name": "stdout",
     "output_type": "stream",
     "text": [
      "[{'summary_text': ' The Bagel Man saw : mankind may be more honest than we think . How is the Ku Klux Klan like a group of real real estate agents? W h y experts of every kind are in the perfect position to exploit yo u ... Could sumo wrestling, the national sport of Japan be corrupt ? ... W h    a new car is suddenly worth so much less the moment it leaves the lo t ... A drug dealer, a high highschool school quarterback, and an editorial assistant have in commo n . Where Have All the Criminals Gone? 105 In which the facts of crime are sorted out from the ﬁctions . What Nicolae Ceaus ¸escu learned — the hard way — about abortio n'}]\n"
     ]
    }
   ],
   "source": [
    "summarizedText=add_summariser(contents.iloc[5][1])\n",
    "print(summarizedText)"
   ]
  },
  {
   "cell_type": "code",
   "execution_count": 26,
   "metadata": {},
   "outputs": [
    {
     "name": "stdout",
     "output_type": "stream",
     "text": [
      " The Bagel Man saw : mankind may be more honest than we think . How is the Ku Klux Klan like a group of real real estate agents? W h y experts of every kind are in the perfect position to exploit yo u ... Could sumo wrestling, the national sport of Japan be corrupt ? ... W h    a new car is suddenly worth so much less the moment it leaves the lo t ... A drug dealer, a high highschool school quarterback, and an editorial assistant have in commo n . Where Have All the Criminals Gone? 105 In which the facts of crime are sorted out from the ﬁctions . What Nicolae Ceaus ¸escu learned — the hard way — about abortio n\n"
     ]
    }
   ],
   "source": [
    "normal_text=[text[\"summary_text\"] for text in summarizedText]\n",
    "normal_text=\" \".join(normal_text)\n",
    "print(normal_text)"
   ]
  },
  {
   "cell_type": "code",
   "execution_count": null,
   "metadata": {},
   "outputs": [],
   "source": [
    "# contents[\"summarized\"]=contents[\"content\"].apply(add_summariser)"
   ]
  }
 ],
 "metadata": {
  "kernelspec": {
   "display_name": "Python 3 (ipykernel)",
   "language": "python",
   "name": "python3"
  },
  "language_info": {
   "codemirror_mode": {
    "name": "ipython",
    "version": 3
   },
   "file_extension": ".py",
   "mimetype": "text/x-python",
   "name": "python",
   "nbconvert_exporter": "python",
   "pygments_lexer": "ipython3",
   "version": "3.9.13"
  }
 },
 "nbformat": 4,
 "nbformat_minor": 2
}
