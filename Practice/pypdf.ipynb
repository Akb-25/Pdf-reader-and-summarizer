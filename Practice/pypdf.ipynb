{
 "cells": [
  {
   "cell_type": "code",
   "execution_count": 345,
   "metadata": {
    "scrolled": true
   },
   "outputs": [],
   "source": [
    "# !pip3 install pypdf2"
   ]
  },
  {
   "cell_type": "code",
   "execution_count": 346,
   "metadata": {},
   "outputs": [],
   "source": [
    "from PyPDF2 import PdfReader\n",
    "reader=PdfReader(\"Freakonomics 1.pdf\",\"rb\")"
   ]
  },
  {
   "cell_type": "code",
   "execution_count": 347,
   "metadata": {},
   "outputs": [],
   "source": [
    "length=len(reader.pages)\n",
    "pages=[]"
   ]
  },
  {
   "cell_type": "code",
   "execution_count": 348,
   "metadata": {},
   "outputs": [],
   "source": [
    "for i in range(length):\n",
    "    page=PdfReader._get_page(reader,page_number=i)\n",
    "    pages.append(page)"
   ]
  },
  {
   "cell_type": "code",
   "execution_count": 349,
   "metadata": {},
   "outputs": [],
   "source": [
    "texts=[]\n",
    "for i in range(length):\n",
    "    text=pages[i].extract_text()\n",
    "    texts.append(text)"
   ]
  },
  {
   "cell_type": "code",
   "execution_count": 350,
   "metadata": {},
   "outputs": [
    {
     "name": "stdout",
     "output_type": "stream",
     "text": [
      "FREAKONOMICS \n",
      "tournaments held immediately after allegations of match rigging, 7–7 \n",
      "wrestlers win only 50 percent of their ﬁnal-day matches against 8–6 opponents instead of the typical 80 percent. No matter how the data \n",
      "are sliced, they inevitably suggest one thing: it is hard to argue that \n",
      "sumo wrestling isn’t rigged. \n",
      "Several years ago, two former sumo wrestlers came forward with \n",
      "extensive allegations of match rigging—and more. Aside from the crooked matches, they said, sumo was rife with drug use and sexca\n",
      "-\n",
      "pades, bribes and tax evasion, and close ties to the yakuza , the Japa -\n",
      "nese maﬁa. The two men began to receive threatening phone calls; one of them told friends he was afraid he would be killed by the yakuza . Still, they went forward with plans to hold a press conference \n",
      "at the Foreign Correspondents’ Club in Tokyo. But shortly before\n",
      "-\n",
      "hand, the two men died—hours apart, in the same hospital, of a sim -\n",
      "ilar respiratory ailment. The police declared there had been no foul play but did not conduct an investigation. “It seems very strange for these two people to die on the same day at the same hospital,” said \n",
      "Mitsuru Miyake, the editor of a sumo magazine. “But no one has seen \n",
      "them poisoned, so you can’t prove the skepticism.” \n",
      "Whether or not their deaths were intentional, these two men had \n",
      "done what no other sumo insider had previously done: named names. Of the 281 wrestlers covered in the data cited above, they identiﬁed \n",
      "29 crooked wrestlers and 11 who were said to be incorruptible. \n",
      "What happens when the whistle-blowers’ corroborating evidence \n",
      "is factored into the analysis of the match data? In matches between \n",
      "two supposedly corrupt wrestlers, the wrestler who was on the bubble \n",
      "won about 80 percent of the time. In bubble matches against a sup -\n",
      "posedly clean opponent, meanwhile, the bubble wrestler was no more \n",
      "likely to win than his record would predict. Furthermore, when a supposedly corrupt wrestler faced an opponent whom the whistle-\n",
      "blowers did not name as either corrupt or clean, the results were \n",
      "40 \n"
     ]
    }
   ],
   "source": [
    "print(texts[55])"
   ]
  },
  {
   "cell_type": "code",
   "execution_count": 351,
   "metadata": {},
   "outputs": [],
   "source": [
    "import pandas as pd"
   ]
  },
  {
   "cell_type": "code",
   "execution_count": 352,
   "metadata": {},
   "outputs": [],
   "source": [
    "contents=pd.DataFrame(columns=[\"pageNumber\",\"content\"])"
   ]
  },
  {
   "cell_type": "code",
   "execution_count": 353,
   "metadata": {},
   "outputs": [],
   "source": [
    "data=[]\n",
    "for num,val in enumerate(texts):\n",
    "    data.append({\"pageNumber\":num,\"content\":val})\n",
    "contents=pd.concat([contents,pd.DataFrame(data)],ignore_index=True)"
   ]
  },
  {
   "cell_type": "code",
   "execution_count": 354,
   "metadata": {},
   "outputs": [
    {
     "data": {
      "text/html": [
       "<div>\n",
       "<style scoped>\n",
       "    .dataframe tbody tr th:only-of-type {\n",
       "        vertical-align: middle;\n",
       "    }\n",
       "\n",
       "    .dataframe tbody tr th {\n",
       "        vertical-align: top;\n",
       "    }\n",
       "\n",
       "    .dataframe thead th {\n",
       "        text-align: right;\n",
       "    }\n",
       "</style>\n",
       "<table border=\"1\" class=\"dataframe\">\n",
       "  <thead>\n",
       "    <tr style=\"text-align: right;\">\n",
       "      <th></th>\n",
       "      <th>pageNumber</th>\n",
       "      <th>content</th>\n",
       "    </tr>\n",
       "  </thead>\n",
       "  <tbody>\n",
       "    <tr>\n",
       "      <th>0</th>\n",
       "      <td>0</td>\n",
       "      <td></td>\n",
       "    </tr>\n",
       "    <tr>\n",
       "      <th>1</th>\n",
       "      <td>1</td>\n",
       "      <td></td>\n",
       "    </tr>\n",
       "    <tr>\n",
       "      <th>2</th>\n",
       "      <td>2</td>\n",
       "      <td>FREAKONOMICS A Rogue Economist \\nExplores the ...</td>\n",
       "    </tr>\n",
       "    <tr>\n",
       "      <th>3</th>\n",
       "      <td>3</td>\n",
       "      <td></td>\n",
       "    </tr>\n",
       "    <tr>\n",
       "      <th>4</th>\n",
       "      <td>4</td>\n",
       "      <td>CONTENTS \\nAN EXPLANATORY NOTE vii \\nIn which ...</td>\n",
       "    </tr>\n",
       "  </tbody>\n",
       "</table>\n",
       "</div>"
      ],
      "text/plain": [
       "  pageNumber                                            content\n",
       "0          0                                                   \n",
       "1          1                                                   \n",
       "2          2  FREAKONOMICS A Rogue Economist \\nExplores the ...\n",
       "3          3                                                   \n",
       "4          4  CONTENTS \\nAN EXPLANATORY NOTE vii \\nIn which ..."
      ]
     },
     "execution_count": 354,
     "metadata": {},
     "output_type": "execute_result"
    }
   ],
   "source": [
    "contents.head()"
   ]
  },
  {
   "cell_type": "code",
   "execution_count": 355,
   "metadata": {},
   "outputs": [
    {
     "data": {
      "text/html": [
       "<div>\n",
       "<style scoped>\n",
       "    .dataframe tbody tr th:only-of-type {\n",
       "        vertical-align: middle;\n",
       "    }\n",
       "\n",
       "    .dataframe tbody tr th {\n",
       "        vertical-align: top;\n",
       "    }\n",
       "\n",
       "    .dataframe thead th {\n",
       "        text-align: right;\n",
       "    }\n",
       "</style>\n",
       "<table border=\"1\" class=\"dataframe\">\n",
       "  <thead>\n",
       "    <tr style=\"text-align: right;\">\n",
       "      <th></th>\n",
       "      <th>pageNumber</th>\n",
       "      <th>content</th>\n",
       "    </tr>\n",
       "  </thead>\n",
       "  <tbody>\n",
       "    <tr>\n",
       "      <th>0</th>\n",
       "      <td>0</td>\n",
       "      <td></td>\n",
       "    </tr>\n",
       "    <tr>\n",
       "      <th>1</th>\n",
       "      <td>1</td>\n",
       "      <td></td>\n",
       "    </tr>\n",
       "    <tr>\n",
       "      <th>2</th>\n",
       "      <td>2</td>\n",
       "      <td>FREAKONOMICS A Rogue Economist \\nExplores the ...</td>\n",
       "    </tr>\n",
       "    <tr>\n",
       "      <th>3</th>\n",
       "      <td>3</td>\n",
       "      <td></td>\n",
       "    </tr>\n",
       "    <tr>\n",
       "      <th>4</th>\n",
       "      <td>4</td>\n",
       "      <td>CONTENTS \\nAN EXPLANATORY NOTE vii \\nIn which ...</td>\n",
       "    </tr>\n",
       "    <tr>\n",
       "      <th>...</th>\n",
       "      <td>...</td>\n",
       "      <td>...</td>\n",
       "    </tr>\n",
       "    <tr>\n",
       "      <th>335</th>\n",
       "      <td>335</td>\n",
       "      <td>Index \\nSwitzerland, 224–25 \\nSzilagyi, John, ...</td>\n",
       "    </tr>\n",
       "    <tr>\n",
       "      <th>336</th>\n",
       "      <td>336</td>\n",
       "      <td>About the Authors  \\nSTEVEN D. L EVITT teaches...</td>\n",
       "    </tr>\n",
       "    <tr>\n",
       "      <th>337</th>\n",
       "      <td>337</td>\n",
       "      <td>Credits \\nJacket design by Chika Azuma  \\nJack...</td>\n",
       "    </tr>\n",
       "    <tr>\n",
       "      <th>338</th>\n",
       "      <td>338</td>\n",
       "      <td>Copyright \\nFREAKONOMICS (REVISED AND EXPANDED...</td>\n",
       "    </tr>\n",
       "    <tr>\n",
       "      <th>339</th>\n",
       "      <td>339</td>\n",
       "      <td>Australia \\nPymble, NSW 2073, Australia Canada...</td>\n",
       "    </tr>\n",
       "  </tbody>\n",
       "</table>\n",
       "<p>340 rows × 2 columns</p>\n",
       "</div>"
      ],
      "text/plain": [
       "    pageNumber                                            content\n",
       "0            0                                                   \n",
       "1            1                                                   \n",
       "2            2  FREAKONOMICS A Rogue Economist \\nExplores the ...\n",
       "3            3                                                   \n",
       "4            4  CONTENTS \\nAN EXPLANATORY NOTE vii \\nIn which ...\n",
       "..         ...                                                ...\n",
       "335        335  Index \\nSwitzerland, 224–25 \\nSzilagyi, John, ...\n",
       "336        336  About the Authors  \\nSTEVEN D. L EVITT teaches...\n",
       "337        337  Credits \\nJacket design by Chika Azuma  \\nJack...\n",
       "338        338  Copyright \\nFREAKONOMICS (REVISED AND EXPANDED...\n",
       "339        339  Australia \\nPymble, NSW 2073, Australia Canada...\n",
       "\n",
       "[340 rows x 2 columns]"
      ]
     },
     "execution_count": 355,
     "metadata": {},
     "output_type": "execute_result"
    }
   ],
   "source": [
    "contents"
   ]
  },
  {
   "cell_type": "code",
   "execution_count": 356,
   "metadata": {},
   "outputs": [
    {
     "data": {
      "text/html": [
       "<div>\n",
       "<style scoped>\n",
       "    .dataframe tbody tr th:only-of-type {\n",
       "        vertical-align: middle;\n",
       "    }\n",
       "\n",
       "    .dataframe tbody tr th {\n",
       "        vertical-align: top;\n",
       "    }\n",
       "\n",
       "    .dataframe thead th {\n",
       "        text-align: right;\n",
       "    }\n",
       "</style>\n",
       "<table border=\"1\" class=\"dataframe\">\n",
       "  <thead>\n",
       "    <tr style=\"text-align: right;\">\n",
       "      <th></th>\n",
       "      <th>pageNumber</th>\n",
       "      <th>content</th>\n",
       "    </tr>\n",
       "  </thead>\n",
       "  <tbody>\n",
       "    <tr>\n",
       "      <th>count</th>\n",
       "      <td>340</td>\n",
       "      <td>340</td>\n",
       "    </tr>\n",
       "    <tr>\n",
       "      <th>unique</th>\n",
       "      <td>340</td>\n",
       "      <td>330</td>\n",
       "    </tr>\n",
       "    <tr>\n",
       "      <th>top</th>\n",
       "      <td>0</td>\n",
       "      <td></td>\n",
       "    </tr>\n",
       "    <tr>\n",
       "      <th>freq</th>\n",
       "      <td>1</td>\n",
       "      <td>11</td>\n",
       "    </tr>\n",
       "  </tbody>\n",
       "</table>\n",
       "</div>"
      ],
      "text/plain": [
       "        pageNumber content\n",
       "count          340     340\n",
       "unique         340     330\n",
       "top              0        \n",
       "freq             1      11"
      ]
     },
     "execution_count": 356,
     "metadata": {},
     "output_type": "execute_result"
    }
   ],
   "source": [
    "contents.describe()"
   ]
  },
  {
   "cell_type": "code",
   "execution_count": 357,
   "metadata": {},
   "outputs": [
    {
     "data": {
      "text/html": [
       "<div>\n",
       "<style scoped>\n",
       "    .dataframe tbody tr th:only-of-type {\n",
       "        vertical-align: middle;\n",
       "    }\n",
       "\n",
       "    .dataframe tbody tr th {\n",
       "        vertical-align: top;\n",
       "    }\n",
       "\n",
       "    .dataframe thead th {\n",
       "        text-align: right;\n",
       "    }\n",
       "</style>\n",
       "<table border=\"1\" class=\"dataframe\">\n",
       "  <thead>\n",
       "    <tr style=\"text-align: right;\">\n",
       "      <th></th>\n",
       "      <th>pageNumber</th>\n",
       "      <th>content</th>\n",
       "    </tr>\n",
       "  </thead>\n",
       "  <tbody>\n",
       "    <tr>\n",
       "      <th>0</th>\n",
       "      <td>0</td>\n",
       "      <td></td>\n",
       "    </tr>\n",
       "    <tr>\n",
       "      <th>1</th>\n",
       "      <td>1</td>\n",
       "      <td></td>\n",
       "    </tr>\n",
       "    <tr>\n",
       "      <th>2</th>\n",
       "      <td>2</td>\n",
       "      <td>FREAKONOMICS A Rogue Economist \\nExplores the ...</td>\n",
       "    </tr>\n",
       "    <tr>\n",
       "      <th>3</th>\n",
       "      <td>3</td>\n",
       "      <td></td>\n",
       "    </tr>\n",
       "    <tr>\n",
       "      <th>4</th>\n",
       "      <td>4</td>\n",
       "      <td>CONTENTS \\nAN EXPLANATORY NOTE vii \\nIn which ...</td>\n",
       "    </tr>\n",
       "  </tbody>\n",
       "</table>\n",
       "</div>"
      ],
      "text/plain": [
       "   pageNumber                                            content\n",
       "0           0                                                   \n",
       "1           1                                                   \n",
       "2           2  FREAKONOMICS A Rogue Economist \\nExplores the ...\n",
       "3           3                                                   \n",
       "4           4  CONTENTS \\nAN EXPLANATORY NOTE vii \\nIn which ..."
      ]
     },
     "execution_count": 357,
     "metadata": {},
     "output_type": "execute_result"
    }
   ],
   "source": [
    "content.head()"
   ]
  },
  {
   "cell_type": "code",
   "execution_count": 358,
   "metadata": {},
   "outputs": [],
   "source": [
    "import spacy\n",
    "nlp=spacy.load(\"en_core_web_sm\")"
   ]
  },
  {
   "cell_type": "code",
   "execution_count": 359,
   "metadata": {},
   "outputs": [],
   "source": [
    "contents.content=contents[\"content\"].apply(nlp)"
   ]
  },
  {
   "cell_type": "code",
   "execution_count": 363,
   "metadata": {},
   "outputs": [
    {
     "data": {
      "text/html": [
       "<div>\n",
       "<style scoped>\n",
       "    .dataframe tbody tr th:only-of-type {\n",
       "        vertical-align: middle;\n",
       "    }\n",
       "\n",
       "    .dataframe tbody tr th {\n",
       "        vertical-align: top;\n",
       "    }\n",
       "\n",
       "    .dataframe thead th {\n",
       "        text-align: right;\n",
       "    }\n",
       "</style>\n",
       "<table border=\"1\" class=\"dataframe\">\n",
       "  <thead>\n",
       "    <tr style=\"text-align: right;\">\n",
       "      <th></th>\n",
       "      <th>pageNumber</th>\n",
       "      <th>content</th>\n",
       "    </tr>\n",
       "  </thead>\n",
       "  <tbody>\n",
       "    <tr>\n",
       "      <th>0</th>\n",
       "      <td>0</td>\n",
       "      <td>()</td>\n",
       "    </tr>\n",
       "    <tr>\n",
       "      <th>1</th>\n",
       "      <td>1</td>\n",
       "      <td>()</td>\n",
       "    </tr>\n",
       "    <tr>\n",
       "      <th>2</th>\n",
       "      <td>2</td>\n",
       "      <td>(FREAKONOMICS, A, Rogue, Economist, \\n, Explor...</td>\n",
       "    </tr>\n",
       "    <tr>\n",
       "      <th>3</th>\n",
       "      <td>3</td>\n",
       "      <td>()</td>\n",
       "    </tr>\n",
       "    <tr>\n",
       "      <th>4</th>\n",
       "      <td>4</td>\n",
       "      <td>(CONTENTS, \\n, AN, EXPLANATORY, NOTE, vii, \\n,...</td>\n",
       "    </tr>\n",
       "  </tbody>\n",
       "</table>\n",
       "</div>"
      ],
      "text/plain": [
       "  pageNumber                                            content\n",
       "0          0                                                 ()\n",
       "1          1                                                 ()\n",
       "2          2  (FREAKONOMICS, A, Rogue, Economist, \\n, Explor...\n",
       "3          3                                                 ()\n",
       "4          4  (CONTENTS, \\n, AN, EXPLANATORY, NOTE, vii, \\n,..."
      ]
     },
     "execution_count": 363,
     "metadata": {},
     "output_type": "execute_result"
    }
   ],
   "source": [
    "contents.head()"
   ]
  },
  {
   "cell_type": "code",
   "execution_count": 364,
   "metadata": {},
   "outputs": [],
   "source": [
    "def remove_newline(doc):\n",
    "    return[token.text.replace(\"\\n\",\"\") for token in doc]\n",
    "contents.content=contents[\"content\"].apply(remove_newline)"
   ]
  },
  {
   "cell_type": "code",
   "execution_count": 368,
   "metadata": {},
   "outputs": [
    {
     "data": {
      "text/html": [
       "<div>\n",
       "<style scoped>\n",
       "    .dataframe tbody tr th:only-of-type {\n",
       "        vertical-align: middle;\n",
       "    }\n",
       "\n",
       "    .dataframe tbody tr th {\n",
       "        vertical-align: top;\n",
       "    }\n",
       "\n",
       "    .dataframe thead th {\n",
       "        text-align: right;\n",
       "    }\n",
       "</style>\n",
       "<table border=\"1\" class=\"dataframe\">\n",
       "  <thead>\n",
       "    <tr style=\"text-align: right;\">\n",
       "      <th></th>\n",
       "      <th>pageNumber</th>\n",
       "      <th>content</th>\n",
       "    </tr>\n",
       "  </thead>\n",
       "  <tbody>\n",
       "    <tr>\n",
       "      <th>0</th>\n",
       "      <td>0</td>\n",
       "      <td>[]</td>\n",
       "    </tr>\n",
       "    <tr>\n",
       "      <th>1</th>\n",
       "      <td>1</td>\n",
       "      <td>[]</td>\n",
       "    </tr>\n",
       "    <tr>\n",
       "      <th>2</th>\n",
       "      <td>2</td>\n",
       "      <td>[FREAKONOMICS, A, Rogue, Economist, , Explores...</td>\n",
       "    </tr>\n",
       "    <tr>\n",
       "      <th>3</th>\n",
       "      <td>3</td>\n",
       "      <td>[]</td>\n",
       "    </tr>\n",
       "    <tr>\n",
       "      <th>4</th>\n",
       "      <td>4</td>\n",
       "      <td>[CONTENTS, , AN, EXPLANATORY, NOTE, vii, , In,...</td>\n",
       "    </tr>\n",
       "  </tbody>\n",
       "</table>\n",
       "</div>"
      ],
      "text/plain": [
       "  pageNumber                                            content\n",
       "0          0                                                 []\n",
       "1          1                                                 []\n",
       "2          2  [FREAKONOMICS, A, Rogue, Economist, , Explores...\n",
       "3          3                                                 []\n",
       "4          4  [CONTENTS, , AN, EXPLANATORY, NOTE, vii, , In,..."
      ]
     },
     "execution_count": 368,
     "metadata": {},
     "output_type": "execute_result"
    }
   ],
   "source": [
    "contents.head()"
   ]
  },
  {
   "cell_type": "code",
   "execution_count": 360,
   "metadata": {},
   "outputs": [],
   "source": [
    "import pandas as pd"
   ]
  },
  {
   "cell_type": "code",
   "execution_count": 361,
   "metadata": {},
   "outputs": [
    {
     "data": {
      "text/plain": [
       "'Co n t e n t s \\nWho cheats? Just about everyone...H o w cheaters cheat, and how to \\ncatch them ...S tories from an Israeli day-care cente r... The sudden dis -\\nappearance of seven million American childre n...C heating schoolteachers \\nin Chicag o...W h y cheating to lose is worse than cheating to wi n... \\nCould sumo wrestling, the national sport of Japan, be corrupt ?...W h a t \\nthe Bagel Man saw: mankind may be more honest than we think. \\n2. How Is the Ku Klux Klan Like a Group \\nof Real-Estate Agents? 49 \\nIn which it is argued that nothing is more powerful than information, \\nespecially when its power is abused. \\nSpilling the Ku Klux Klan’s secret s...W h y experts of every kind are in \\nthe perfect position to exploit yo u... The antidote to information abuse: \\nthe Interne t...W h y  a new car is suddenly worth so much less the moment \\nit leaves the lo t...B r eaking the real-estate agent code: what “well main -\\ntained” really mean s...I s  T r ent Lott more racist than the average Weakest \\nLink contestant ?...W hat do online daters lie about? \\n3. Why Do Drug Dealers Still Live with Their Moms? 79 \\nIn which the conventional wisdom is often found to be a web of fabri -\\ncation, self-interest, and convenience. \\nWhy experts routinely make up statistics; the invention of chronic hali-\\ntosis...H o w  t o ask a good questio n...S udhir Venkatesh’s long, strange \\ntrip into the crack de n...L ife is a tournamen t...W h y  p r ostitutes earn \\nmore than architect s...W hat a drug dealer, a high-school quarterback, \\nand an editorial assistant have in commo n...H o w the invention of crack \\ncocaine mirrored the invention of nylon stocking s...W a s  c r ack the worst \\nthing to hit black Americans since Jim Crow? \\n4. Where Have All the Criminals Gone? 105 \\nIn which the facts of crime are sorted out from the ﬁctions. \\nWhat Nicolae Ceaus ¸escu learned—the hard way—about abortio n... \\niv '"
      ]
     },
     "execution_count": 361,
     "metadata": {},
     "output_type": "execute_result"
    }
   ],
   "source": [
    "texts[5]"
   ]
  },
  {
   "cell_type": "code",
   "execution_count": 362,
   "metadata": {},
   "outputs": [
    {
     "ename": "SyntaxError",
     "evalue": "EOL while scanning string literal (1773421775.py, line 2)",
     "output_type": "error",
     "traceback": [
      "\u001b[1;36m  File \u001b[1;32m\"C:\\Users\\25bak\\AppData\\Local\\Temp\\ipykernel_15472\\1773421775.py\"\u001b[1;36m, line \u001b[1;32m2\u001b[0m\n\u001b[1;33m    pattern=\"\\\"\u001b[0m\n\u001b[1;37m               ^\u001b[0m\n\u001b[1;31mSyntaxError\u001b[0m\u001b[1;31m:\u001b[0m EOL while scanning string literal\n"
     ]
    }
   ],
   "source": [
    "import re\n",
    "pattern=\"\\\"\n"
   ]
  }
 ],
 "metadata": {
  "kernelspec": {
   "display_name": "Python 3 (ipykernel)",
   "language": "python",
   "name": "python3"
  },
  "language_info": {
   "codemirror_mode": {
    "name": "ipython",
    "version": 3
   },
   "file_extension": ".py",
   "mimetype": "text/x-python",
   "name": "python",
   "nbconvert_exporter": "python",
   "pygments_lexer": "ipython3",
   "version": "3.9.13"
  }
 },
 "nbformat": 4,
 "nbformat_minor": 2
}
