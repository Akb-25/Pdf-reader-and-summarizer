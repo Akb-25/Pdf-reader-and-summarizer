{
 "cells": [
  {
   "cell_type": "code",
   "execution_count": 166,
   "metadata": {
    "scrolled": true
   },
   "outputs": [],
   "source": [
    "# !pip3 install pypdf2"
   ]
  },
  {
   "cell_type": "code",
   "execution_count": 167,
   "metadata": {},
   "outputs": [],
   "source": [
    "from PyPDF2 import PdfReader\n",
    "import pandas as pd\n",
    "import re\n",
    "import pandas as pd"
   ]
  },
  {
   "cell_type": "code",
   "execution_count": 168,
   "metadata": {},
   "outputs": [],
   "source": [
    "reader=PdfReader(\"Freakonomics 1.pdf\",\"rb\")\n",
    "length=len(reader.pages)\n",
    "pages=[]\n",
    "for i in range(length):\n",
    "    page=PdfReader._get_page(reader,page_number=i)\n",
    "    pages.append(page)\n",
    "    texts=[]\n",
    "for i in range(length):\n",
    "    text=pages[i].extract_text(0)\n",
    "    texts.append(text)"
   ]
  },
  {
   "cell_type": "code",
   "execution_count": 169,
   "metadata": {},
   "outputs": [],
   "source": [
    "contents=pd.DataFrame(columns=[\"pageNumber\",\"content\"])\n",
    "data=[]\n",
    "for num,val in enumerate(texts):\n",
    "    data.append({\"pageNumber\":num,\"content\":val})\n",
    "contents=pd.concat([contents,pd.DataFrame(data)],ignore_index=True)"
   ]
  },
  {
   "cell_type": "code",
   "execution_count": 170,
   "metadata": {},
   "outputs": [],
   "source": [
    "import spacy\n",
    "nlp=spacy.load(\"en_core_web_sm\")\n",
    "def formattedText(text):\n",
    "    doc=nlp(text)\n",
    "    page=[]\n",
    "    for token in doc:\n",
    "        token_index=token.i\n",
    "        if token.text ==\"-\":\n",
    "            if token.i>0 and token.i<len(doc)-1:\n",
    "                pageVal=doc[token.i-1].text+doc[token.i+1].text\n",
    "            page.append(str(pageVal))\n",
    "        elif token.text==\"\\n\":\n",
    "            pageVal=token.text.replace(\"\\n\",\"\")\n",
    "        elif token.text==\"\\n\\n\":\n",
    "            pageVal=token.text.replace(\"\\n\\n\",\"\")\n",
    "        # elif not token.is_punct:\n",
    "        else:\n",
    "            page.append(token.text)\n",
    "    return \" \".join(page)"
   ]
  },
  {
   "cell_type": "code",
   "execution_count": 171,
   "metadata": {},
   "outputs": [],
   "source": [
    "# def join_letters(text):\n",
    "#     doc=nlp(text)\n",
    "#     page=[]\n",
    "#     for token in doc[:-1]:\n",
    "#         if len(doc[token.i+1])==1 and doc[token.i+1].text is not [\"a\",\"A\",\"i\",\"I\"]: \n",
    "#             val=doc[token.i].text+doc[token.i+1].text\n",
    "#             page.append(str(val))\n",
    "#     return page"
   ]
  },
  {
   "cell_type": "code",
   "execution_count": 172,
   "metadata": {},
   "outputs": [],
   "source": [
    "# contents.content=contents[\"content\"].apply(join_letters)\n",
    "contents.content=contents[\"content\"].apply(formattedText)"
   ]
  },
  {
   "cell_type": "code",
   "execution_count": 173,
   "metadata": {},
   "outputs": [
    {
     "name": "stdout",
     "output_type": "stream",
     "text": [
      "Co n t e n t s Who cheats ? Just about everyone ... H o w cheaters cheat , and how to catch them ... S tories from an Israeli day daycare care cente r ... The sudden dis dis\n",
      " appearance of seven million American childre n ... C heating schoolteachers in Chicag o ... W h y cheating to lose is worse than cheating to wi n ... Could sumo wrestling , the national sport of Japan , be corrupt ? ... W h a t the Bagel Man saw : mankind may be more honest than we think . 2 . How Is the Ku Klux Klan Like a Group of Real RealEstate Estate Agents ? 49 In which it is argued that nothing is more powerful than information , especially when its power is abused . Spilling the Ku Klux Klan ’s secret s ... W h y experts of every kind are in the perfect position to exploit yo u ... The antidote to information abuse : the Interne t ... W h y   a new car is suddenly worth so much less the moment it leaves the lo t ... B r eaking the real realestate estate agent code : what “ well main main\n",
      " tained ” really mean s ... I s   T r ent Lott more racist than the average Weakest Link contestant ? ... W hat do online daters lie about ? 3 . Why Do Drug Dealers Still Live with Their Moms ? 79 In which the conventional wisdom is often found to be a web of fabri fabri\n",
      " cation , self selfinterest interest , and convenience . Why experts routinely make up statistics ; the invention of chronic hali- tosis ... H o w   t o ask a good questio n ... S udhir Venkatesh ’s long , strange trip into the crack de n ... L ife is a tournamen t ... W h y   p r ostitutes earn more than architect s ... W hat a drug dealer , a high highschool school quarterback , and an editorial assistant have in commo n ... H o w the invention of crack cocaine mirrored the invention of nylon stocking s ... W a s   c r ack the worst thing to hit black Americans since Jim Crow ? 4 . Where Have All the Criminals Gone ? 105 In which the facts of crime are sorted out from the ﬁctions . What Nicolae Ceaus ¸escu learned — the hard way — about abortio n ... iv\n"
     ]
    }
   ],
   "source": [
    "row=contents.iloc[5][1]\n",
    "print(row)"
   ]
  },
  {
   "cell_type": "code",
   "execution_count": 174,
   "metadata": {},
   "outputs": [],
   "source": [
    "# !pip install transformers\n",
    "# !pip install torch==1.9.0+cpu torchvision==0.10.0+cpu torchaudio==0.9.0 -f https://download.pytorch.org/whl/torch_stable.html"
   ]
  },
  {
   "cell_type": "code",
   "execution_count": 175,
   "metadata": {},
   "outputs": [
    {
     "name": "stderr",
     "output_type": "stream",
     "text": [
      "No model was supplied, defaulted to sshleifer/distilbart-cnn-12-6 and revision a4f8f3e (https://huggingface.co/sshleifer/distilbart-cnn-12-6).\n",
      "Using a pipeline without specifying a model name and revision in production is not recommended.\n"
     ]
    }
   ],
   "source": [
    "from transformers import pipeline\n",
    "summarizer=pipeline(\"summarization\")\n",
    "def add_summariser(text):\n",
    "    return summarizer(text,min_length=150,max_length=200)"
   ]
  },
  {
   "cell_type": "code",
   "execution_count": 180,
   "metadata": {},
   "outputs": [
    {
     "name": "stdout",
     "output_type": "stream",
     "text": [
      "[{'summary_text': ' The Bagel Man saw : mankind may be more honest than we think . How is the Ku Klux Klan like a group of real real estate agents? W h y experts of every kind are in the perfect position to exploit yo u ... Could sumo wrestling, the national sport of Japan be corrupt ? ... W h    a new car is suddenly worth so much less the moment it leaves the lo t ... A drug dealer, a high highschool school quarterback, and an editorial assistant have in commo n . Where Have All the Criminals Gone? 105 In which the facts of crime are sorted out from the ﬁctions . What Nicolae Ceaus ¸escu learned — the hard way — about abortio n'}]\n"
     ]
    }
   ],
   "source": [
    "summarizedText=add_summariser(contents.iloc[5][1])\n",
    "print(summarizedText)"
   ]
  },
  {
   "cell_type": "code",
   "execution_count": 184,
   "metadata": {},
   "outputs": [
    {
     "name": "stdout",
     "output_type": "stream",
     "text": [
      " The Bagel Man saw : mankind may be more honest than we think . How is the Ku Klux Klan like a group of real real estate agents? W h y experts of every kind are in the perfect position to exploit yo u ... Could sumo wrestling, the national sport of Japan be corrupt ? ... W h    a new car is suddenly worth so much less the moment it leaves the lo t ... A drug dealer, a high highschool school quarterback, and an editorial assistant have in commo n . Where Have All the Criminals Gone? 105 In which the facts of crime are sorted out from the ﬁctions . What Nicolae Ceaus ¸escu learned — the hard way — about abortio n\n"
     ]
    }
   ],
   "source": [
    "normal_text=[text[\"summary_text\"] for text in summarizedText]\n",
    "normal_text=\" \".join(normal_text)\n",
    "print(normal_text)"
   ]
  },
  {
   "cell_type": "code",
   "execution_count": 177,
   "metadata": {},
   "outputs": [],
   "source": [
    "# contents[\"summarized\"]=contents[\"content\"].apply(add_summariser)"
   ]
  }
 ],
 "metadata": {
  "kernelspec": {
   "display_name": "Python 3 (ipykernel)",
   "language": "python",
   "name": "python3"
  },
  "language_info": {
   "codemirror_mode": {
    "name": "ipython",
    "version": 3
   },
   "file_extension": ".py",
   "mimetype": "text/x-python",
   "name": "python",
   "nbconvert_exporter": "python",
   "pygments_lexer": "ipython3",
   "version": "3.9.13"
  }
 },
 "nbformat": 4,
 "nbformat_minor": 2
}
