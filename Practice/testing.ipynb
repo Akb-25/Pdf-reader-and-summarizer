{
 "cells": [
  {
   "cell_type": "code",
   "execution_count": 3,
   "metadata": {},
   "outputs": [
    {
     "name": "stdout",
     "output_type": "stream",
     "text": [
      "                  text_column                  merged_text\n",
      "0    for - age is an example.    for - age is an example .\n",
      "1  This is another - example.  This is another - example .\n",
      "2  Hyphen - at the beginning.  Hyphen - at the beginning .\n"
     ]
    }
   ],
   "source": [
    "import pandas as pd\n",
    "import spacy\n",
    "\n",
    "# Load the spaCy model\n",
    "nlp = spacy.load(\"en_core_web_sm\")\n",
    "\n",
    "# Sample DataFrame with a column of texts\n",
    "data = {'text_column': [\"for - age is an example.\",\n",
    "                       \"This is another - example.\",\n",
    "                       \"Hyphen - at the beginning.\"]}\n",
    "\n",
    "df = pd.DataFrame(data)\n",
    "\n",
    "# Define a function to merge hyphenated words\n",
    "def merge_hyphenated_words(text):\n",
    "    try:\n",
    "        # Process the text with spaCy\n",
    "        doc = nlp(text)\n",
    "    \n",
    "        # Initialize a list to store the merged words\n",
    "        merged_words = []\n",
    "    \n",
    "        # Iterate through the tokens\n",
    "        for token in doc:\n",
    "            # Check if the token contains a hyphen and is not a punctuation mark\n",
    "            if '-' in token.text and not token.is_punct:\n",
    "                # Merge the token text by removing the hyphen\n",
    "                merged_word = token.text.replace('-', '')\n",
    "                merged_words.append(merged_word)\n",
    "            else:\n",
    "                merged_words.append(token.text)\n",
    "    \n",
    "        # Join the merged words back into a sentence\n",
    "        merged_text = \" \".join(merged_words)\n",
    "    \n",
    "        return merged_text\n",
    "    except Exception as e:\n",
    "        # Handle any exceptions and return the original text if there's an issue\n",
    "        return text\n",
    "\n",
    "# Apply the merge_hyphenated_words function to the 'text_column' and create a new column 'merged_text'\n",
    "df['merged_text'] = df['text_column'].apply(merge_hyphenated_words)\n",
    "\n",
    "# Print the DataFrame with merged words\n",
    "print(df)\n"
   ]
  }
 ],
 "metadata": {
  "kernelspec": {
   "display_name": "base",
   "language": "python",
   "name": "python3"
  },
  "language_info": {
   "codemirror_mode": {
    "name": "ipython",
    "version": 3
   },
   "file_extension": ".py",
   "mimetype": "text/x-python",
   "name": "python",
   "nbconvert_exporter": "python",
   "pygments_lexer": "ipython3",
   "version": "3.9.13"
  },
  "orig_nbformat": 4
 },
 "nbformat": 4,
 "nbformat_minor": 2
}
